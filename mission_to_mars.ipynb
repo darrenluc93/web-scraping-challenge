{
 "cells": [
  {
   "cell_type": "code",
   "execution_count": 4,
   "metadata": {},
   "outputs": [
    {
     "name": "stderr",
     "output_type": "stream",
     "text": [
      "/Users/darrenlucca/anaconda3/lib/python3.7/site-packages/ipykernel_launcher.py:14: DeprecationWarning: use options instead of chrome_options\n",
      "  \n"
     ]
    }
   ],
   "source": [
    "from bs4 import BeautifulSoup as bs\n",
    "import time\n",
    "import requests\n",
    "\n",
    "from selenium import webdriver #splinter does not work so I had to use selenium in order to get the final html since the nasa website usees psudo elements such as ::before and ::after to load the latest news.as\n",
    "\n",
    "import pandas as pd\n",
    "\n",
    "#Settings for headless mode.\n",
    "options = webdriver.ChromeOptions()\n",
    "options.add_argument('headless')\n",
    "\n",
    "#path to the driver and load the options.\n",
    "browser = webdriver.Chrome(\"/usr/local/bin/chromedriver\",chrome_options = options)\n",
    "\n",
    "marsInfo_dict = {}"
   ]
  },
  {
   "cell_type": "code",
   "execution_count": 5,
   "metadata": {},
   "outputs": [
    {
     "name": "stdout",
     "output_type": "stream",
     "text": [
      "NASA's MAVEN Observes Martian Night Sky Pulsing in Ultraviolet Light\n",
      "\n",
      "\n",
      "Vast areas of the Martian night sky pulse in ultraviolet light, according to images from NASA’s MAVEN spacecraft. The results are being used to illuminate complex circulation patterns in the Martian atmosphere.NASA's MAVEN Observes Martian Night Sky Pulsing in Ultraviolet LightAugust  6, 2020NASA's MAVEN Observes Martian Night Sky Pulsing in Ultraviolet LightVast areas of the Martian night sky pulse in ultraviolet light, according to images from NASA’s MAVEN spacecraft. The results are being used to illuminate complex circulation patterns in the Martian atmosphere.\n"
     ]
    }
   ],
   "source": [
    "#Code to get NASA Mars News\n",
    "\n",
    "url = \"https://mars.nasa.gov/news/?page=0&per_page=40&order=publish_date+desc%2Ccreated_at+desc&search=&year=2020%3Apublish_date&category=19%2C165%2C184%2C204&blank_scope=Latest\"\n",
    "\n",
    "#Open url.\n",
    "browser.get(url)\n",
    "\n",
    "#Time to let the website load all the elements\n",
    "time.sleep(4)\n",
    "\n",
    "#save the html source.\n",
    "html = browser.page_source\n",
    "\n",
    "#Use bs4 to parse the html response.\n",
    "soup = bs(html, \"html.parser\")\n",
    "\n",
    "#Collect the latest news title\n",
    "news_title = soup.find_all('li', class_=\"slide\")[0].find(class_=\"content_title\").text\n",
    "\n",
    "news_p = soup.find_all('li', class_=\"slide\")[0].text\n",
    "\n",
    "print(news_title)\n",
    "print(\"\\n\")\n",
    "print(news_p)\n",
    "\n",
    "marsInfo_dict['news_title'] = news_title\n",
    "marsInfo_dict['news_p'] = news_p"
   ]
  },
  {
   "cell_type": "code",
   "execution_count": 6,
   "metadata": {},
   "outputs": [
    {
     "name": "stdout",
     "output_type": "stream",
     "text": [
      "https://www.jpl.nasa.gov//spaceimages/images/mediumsize/PIA19046_ip.jpg\n"
     ]
    }
   ],
   "source": [
    "#Code to get JPL Mars Space Images - Featured Image\n",
    "\n",
    "url = \"https://www.jpl.nasa.gov/spaceimages/?search=&category=Mars\"\n",
    "\n",
    "#Opens the url.\n",
    "browser.get(url)\n",
    "\n",
    "#Interact with the FULL IMAGE BUTTON\n",
    "browser.find_element_by_id(\"full_image\").click()\n",
    "\n",
    "time.sleep(4)\n",
    "\n",
    "html = browser.page_source\n",
    "\n",
    "#Use bs4 to parse the html response.\n",
    "soup = bs(html, \"html.parser\")\n",
    "\n",
    "featured_image_url = \"https://www.jpl.nasa.gov/\" + soup.find_all('img', class_=\"fancybox-image\")[0]['src']\n",
    "\n",
    "marsInfo_dict['featured_image_url'] = featured_image_url\n",
    "\n",
    "print(featured_image_url)"
   ]
  },
  {
   "cell_type": "code",
   "execution_count": 7,
   "metadata": {},
   "outputs": [
    {
     "name": "stdout",
     "output_type": "stream",
     "text": [
      "Mars Weather@MarsWxReport·8hInSight sol 602 (2020-08-05) low -91.5ºC (-132.6ºF) high -9.5ºC (14.9ºF)\n",
      "winds from the W at 5.4 m/s (12.2 mph) gusting to 17.0 m/s (38.1 mph)\n",
      "pressure at 7.90 hPa17\n"
     ]
    }
   ],
   "source": [
    "#Mars Weather\n",
    "\n",
    "url = \"https://twitter.com/marswxreport?lang=en\"\n",
    "options = webdriver.ChromeOptions()\n",
    "options.add_argument('headless')\n",
    "\n",
    "#Open the url.\n",
    "browser.get(url)\n",
    "\n",
    "#Time to let the website load all the elements\n",
    "time.sleep(4)\n",
    "\n",
    "#save the html source.\n",
    "html = browser.page_source\n",
    "\n",
    "#Use bs4 to parse the html response.\n",
    "soup = bs(html, \"html.parser\")\n",
    "\n",
    "mars_weather = soup.find_all('article', class_=\"css-1dbjc4n r-1loqt21 r-18u37iz r-1ny4l3l r-o7ynqc r-6416eg\")[0].text.strip().replace('Mars Weather@MarsWxReport·19hInSight ','')\n",
    "\n",
    "marsInfo_dict['mars_weather'] = mars_weather\n",
    "\n",
    "print(mars_weather)"
   ]
  },
  {
   "cell_type": "code",
   "execution_count": 8,
   "metadata": {},
   "outputs": [],
   "source": [
    "# Mars Facts\n",
    "\n",
    "url = 'http://space-facts.com/mars/'\n",
    "\n",
    "#Load url to pandas read html.\n",
    "tables = pd.read_html(url)\n",
    "\n",
    "#Tables\n",
    "marsFacts_df = tables[0]\n",
    "earthMars_df = tables[1]\n",
    "\n",
    "#Rename columns\n",
    "marsFacts_df.columns = ['Facts', 'Values']\n",
    "\n",
    "\n",
    "#Outpout\n",
    "html_outputFacts = marsFacts_df.to_html(index = False)\n",
    "html_outputFacts = html_outputFacts.replace('\\n', '')\n",
    "\n",
    "html_outputMarsEarth = earthMars_df.to_html(index = False)\n",
    "html_outputMarsEarth = html_outputMarsEarth.replace('\\n', '')\n",
    "\n",
    "marsInfo_dict['html_outputFacts'] = html_outputFacts\n",
    "marsInfo_dict['html_outputMarsEarth'] = html_outputMarsEarth"
   ]
  },
  {
   "cell_type": "code",
   "execution_count": 9,
   "metadata": {},
   "outputs": [
    {
     "name": "stderr",
     "output_type": "stream",
     "text": [
      "/Users/darrenlucca/anaconda3/lib/python3.7/site-packages/ipykernel_launcher.py:7: DeprecationWarning: use options instead of chrome_options\n",
      "  import sys\n"
     ]
    }
   ],
   "source": [
    "#hemisphereImages\n",
    "temp_list = []\n",
    "\n",
    "url = \"https://astrogeology.usgs.gov/search/results?q=hemisphere+enhanced&k1=target&v1=Mars\"\n",
    "\n",
    "# start web browser\n",
    "browser = webdriver.Chrome(\"/usr/local/bin/chromedriver\",chrome_options=options)\n",
    "\n",
    "#Opens the url.\n",
    "browser.get(url)\n",
    "\n",
    "time.sleep(4)\n",
    "\n",
    "html = browser.page_source\n",
    "\n",
    "# close web browser\n",
    "browser.close()\n",
    "\n",
    "#Use bs4 to parse the html response.\n",
    "soup = bs(html, \"html.parser\")\n",
    "\n",
    "links = soup.find_all('div', class_=\"description\")\n",
    "\n",
    "for link in links:\n",
    "\n",
    "    highDef_url = f\"https://astrogeology.usgs.gov{link.find('a')['href']}\"\n",
    "\n",
    "    responseHighDef = requests.get(highDef_url)\n",
    "\n",
    "    soupHighDef = bs(responseHighDef.text, 'html.parser')\n",
    "\n",
    "    highDef_url = soupHighDef.find_all(\"div\", class_=\"downloads\")[0].find('a')['href']\n",
    "\n",
    "    title = link.find('h3').text \n",
    "\n",
    "    temp_list.append({\"title\" : title, \"img_url\" : highDef_url})\n",
    "\n",
    "marsInfo_dict['hemisphere_image_urls'] = temp_list"
   ]
  },
  {
   "cell_type": "code",
   "execution_count": 8,
   "metadata": {},
   "outputs": [
    {
     "data": {
      "text/plain": [
       "{'news_title': \"8 Martian Postcards to Celebrate Curiosity's Landing Anniversary\",\n",
       " 'news_p': \"The NASA rover touched down eight years ago, on Aug. 5, 2012, and will soon be joined by a second rover, Perseverance.8 Martian Postcards to Celebrate Curiosity's Landing AnniversaryAugust  3, 20208 Martian Postcards to Celebrate Curiosity's Landing AnniversaryThe NASA rover touched down eight years ago, on Aug. 5, 2012, and will soon be joined by a second rover, Perseverance.\",\n",
       " 'featured_image_url': 'https://www.jpl.nasa.gov//spaceimages/images/mediumsize/PIA19324_ip.jpg',\n",
       " 'mars_weather': 'Mars Weather@MarsWxReport·16hInSight sol 598 (2020-08-01) low -91.6ºC (-132.9ºF) high -15.1ºC (4.8ºF)\\nwinds from the WNW at 7.1 m/s (15.8 mph) gusting to 19.2 m/s (43.0 mph)\\npressure at 7.90 hPa1122',\n",
       " 'html_outputFacts': '<table border=\"1\" class=\"dataframe\">  <thead>    <tr style=\"text-align: right;\">      <th>Facts</th>      <th>Values</th>    </tr>  </thead>  <tbody>    <tr>      <td>Equatorial Diameter:</td>      <td>6,792 km</td>    </tr>    <tr>      <td>Polar Diameter:</td>      <td>6,752 km</td>    </tr>    <tr>      <td>Mass:</td>      <td>6.39 × 10^23 kg (0.11 Earths)</td>    </tr>    <tr>      <td>Moons:</td>      <td>2 (Phobos &amp; Deimos)</td>    </tr>    <tr>      <td>Orbit Distance:</td>      <td>227,943,824 km (1.38 AU)</td>    </tr>    <tr>      <td>Orbit Period:</td>      <td>687 days (1.9 years)</td>    </tr>    <tr>      <td>Surface Temperature:</td>      <td>-87 to -5 °C</td>    </tr>    <tr>      <td>First Record:</td>      <td>2nd millennium BC</td>    </tr>    <tr>      <td>Recorded By:</td>      <td>Egyptian astronomers</td>    </tr>  </tbody></table>',\n",
       " 'html_outputMarsEarth': '<table border=\"1\" class=\"dataframe\">  <thead>    <tr style=\"text-align: right;\">      <th>Mars - Earth Comparison</th>      <th>Mars</th>      <th>Earth</th>    </tr>  </thead>  <tbody>    <tr>      <td>Diameter:</td>      <td>6,779 km</td>      <td>12,742 km</td>    </tr>    <tr>      <td>Mass:</td>      <td>6.39 × 10^23 kg</td>      <td>5.97 × 10^24 kg</td>    </tr>    <tr>      <td>Moons:</td>      <td>2</td>      <td>1</td>    </tr>    <tr>      <td>Distance from Sun:</td>      <td>227,943,824 km</td>      <td>149,598,262 km</td>    </tr>    <tr>      <td>Length of Year:</td>      <td>687 Earth days</td>      <td>365.24 days</td>    </tr>    <tr>      <td>Temperature:</td>      <td>-153 to 20 °C</td>      <td>-88 to 58°C</td>    </tr>  </tbody></table>',\n",
       " 'hemisphere_image_urls': [{'title': 'Cerberus Hemisphere Enhanced',\n",
       "   'img_url': 'https://astropedia.astrogeology.usgs.gov/download/Mars/Viking/cerberus_enhanced.tif/full.jpg'},\n",
       "  {'title': 'Schiaparelli Hemisphere Enhanced',\n",
       "   'img_url': 'https://astropedia.astrogeology.usgs.gov/download/Mars/Viking/schiaparelli_enhanced.tif/full.jpg'},\n",
       "  {'title': 'Syrtis Major Hemisphere Enhanced',\n",
       "   'img_url': 'https://astropedia.astrogeology.usgs.gov/download/Mars/Viking/syrtis_major_enhanced.tif/full.jpg'},\n",
       "  {'title': 'Valles Marineris Hemisphere Enhanced',\n",
       "   'img_url': 'https://astropedia.astrogeology.usgs.gov/download/Mars/Viking/valles_marineris_enhanced.tif/full.jpg'}]}"
      ]
     },
     "execution_count": 8,
     "metadata": {},
     "output_type": "execute_result"
    }
   ],
   "source": [
    "marsInfo_dict"
   ]
  },
  {
   "cell_type": "code",
   "execution_count": null,
   "metadata": {},
   "outputs": [],
   "source": []
  }
 ],
 "metadata": {
  "kernelspec": {
   "display_name": "Python 3",
   "language": "python",
   "name": "python3"
  },
  "language_info": {
   "codemirror_mode": {
    "name": "ipython",
    "version": 3
   },
   "file_extension": ".py",
   "mimetype": "text/x-python",
   "name": "python",
   "nbconvert_exporter": "python",
   "pygments_lexer": "ipython3",
   "version": "3.7.6"
  }
 },
 "nbformat": 4,
 "nbformat_minor": 4
}
